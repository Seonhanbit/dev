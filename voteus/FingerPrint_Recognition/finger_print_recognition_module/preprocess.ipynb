{
 "cells": [
  {
   "cell_type": "code",
   "execution_count": 1,
   "metadata": {},
   "outputs": [],
   "source": [
    "import cv2\n",
    "import matplotlib.pyplot as plt\n",
    "import numpy as np\n",
    "\n",
    "from glob import glob\n",
    "import os\n",
    "import alter as al\n",
    "import random"
   ]
  },
  {
   "cell_type": "code",
   "execution_count": 2,
   "metadata": {},
   "outputs": [],
   "source": [
    "def extract_label(img_path):\n",
    "    filename, _ = os.path.splitext(os.path.basename(img_path))\n",
    "    #print(filename)\n",
    "    subject_id, etc = filename.split('__')\n",
    "    gender, lr, finger, _ = etc.split('_')\n",
    "\n",
    "    gender = 0 if gender == 'M' else 1\n",
    "    lr = 0 if lr == 'Left' else 1\n",
    "\n",
    "    if finger == 'thumb':\n",
    "        finger = 0\n",
    "    elif finger == 'index':\n",
    "        finger = 1\n",
    "    elif finger == 'middle':\n",
    "        finger = 2\n",
    "    elif finger == 'ring':\n",
    "        finger = 3\n",
    "    elif finger == 'little':\n",
    "        finger = 4\n",
    "\n",
    "    if 100 >= int(subject_id):\n",
    "        print(filename)\n",
    "        rannumx = random.randint(-10, 10)\n",
    "        rannumy = random.randint(-10, 10)\n",
    "        randomr = random.randint(30, 50)\n",
    "        al.rotate_Image(img_path, 120 + rannumx, 130 + rannumy, 30, randomr, \"Altered/Altered-Easy/\"+filename+\"_CR.BMP\")\n",
    "        rannumx = random.randint(-10, 10)\n",
    "        rannumy = random.randint(-10, 10)\n",
    "        randomr = random.randint(60, 80)\n",
    "        al.rotate_Image(img_path, 120 + rannumx, 130 + rannumy, 50, randomr, \"Altered/Altered-Medium/\"+filename+\"_CR.BMP\")\n",
    "        rannumx = random.randint(-10, 10)\n",
    "        rannumy = random.randint(-10, 10)\n",
    "        randomr = random.randint(90, 120)\n",
    "        al.rotate_Image(img_path, 120 + rannumx, 130 + rannumy, 70, randomr, \"Altered/Altered-Hard/\"+filename+\"_CR.BMP\")\n",
    "\n",
    "\n",
    "        rannumx = random.randint(-10, 10)\n",
    "        rannumy = random.randint(-10, 10)\n",
    "        al.obliterate_Image(img_path, 120 + rannumx, 130 + rannumy, 30, \"Altered/Altered-Easy/\"+filename+\"_Obi.BMP\")\n",
    "        rannumx = random.randint(-10, 10)\n",
    "        rannumy = random.randint(-10, 10)\n",
    "        al.obliterate_Image(img_path, 120 + rannumx, 130 + rannumy, 50, \"Altered/Altered-Medium/\"+filename+\"_Obi.BMP\")\n",
    "        rannumx = random.randint(-10, 10)\n",
    "        rannumy = random.randint(-10, 10)\n",
    "        al.obliterate_Image(img_path, 120 + rannumx, 130 + rannumy, 70, \"Altered/Altered-Hard/\"+filename+\"_Obi.BMP\")\n",
    "\n",
    "    return np.array([subject_id, gender, lr, finger], dtype=np.uint16)\n",
    "\n",
    "\n",
    "def extract_label2(img_path):\n",
    "    filename, _ = os.path.splitext(os.path.basename(img_path))\n",
    "\n",
    "    subject_id, etc = filename.split('__')\n",
    "    gender, lr, finger, _, _ = etc.split('_')\n",
    "\n",
    "    gender = 0 if gender == 'M' else 1\n",
    "    lr = 0 if lr == 'Left' else 1\n",
    "\n",
    "    if finger == 'thumb':\n",
    "        finger = 0\n",
    "    elif finger == 'index':\n",
    "        finger = 1\n",
    "    elif finger == 'middle':\n",
    "        finger = 2\n",
    "    elif finger == 'ring':\n",
    "        finger = 3\n",
    "    elif finger == 'little':\n",
    "        finger = 4\n",
    "\n",
    "    return np.array([subject_id, gender, lr, finger], dtype=np.uint16)"
   ]
  },
  {
   "cell_type": "code",
   "execution_count": 4,
   "metadata": {
    "scrolled": true
   },
   "outputs": [
    {
     "name": "stdout",
     "output_type": "stream",
     "text": [
      "5007\n",
      "1__M_Right_index_finger\n",
      "2__F_Right_index_finger\n",
      "3__F_Right_index_finger\n",
      "4__M_Right_index_finger\n",
      "5__M_Right_index_finger\n",
      "6__M_Right_index_finger\n",
      "7__F_Right_index_finger\n",
      "(96, 96)\n"
     ]
    },
    {
     "data": {
      "text/plain": [
       "<matplotlib.image.AxesImage at 0x1dd7ae7a048>"
      ]
     },
     "execution_count": 4,
     "metadata": {},
     "output_type": "execute_result"
    },
    {
     "data": {
      "image/png": "[encoded data removed]",
      "text/plain": [
       "<Figure size 72x72 with 1 Axes>"
      ]
     },
     "metadata": {
      "needs_background": "light"
     },
     "output_type": "display_data"
    }
   ],
   "source": [
    "img_list = sorted(glob('Real/*.BMP'))\n",
    "print(len(img_list))\n",
    "\n",
    "imgs = np.empty((len(img_list), 96, 96, 1), dtype=np.uint8)\n",
    "labels = np.empty((len(img_list), 4), dtype=np.uint16)\n",
    "\n",
    "for i, img_path in enumerate(img_list):\n",
    "    img = cv2.imread(img_path, cv2.IMREAD_GRAYSCALE)\n",
    "    img = cv2.resize(img, (96, 96))\n",
    "    img_r = img[:, :, np.newaxis]\n",
    "    imgs[i] = img_r\n",
    "    \n",
    "    # subject_id, gender, lr, finger\n",
    "    labels[i] = extract_label(img_path)\n",
    "\n",
    "np.savez('dataset/x_real.npz', data=imgs)\n",
    "np.save('dataset/y_real.npy', labels)\n",
    "\n",
    "# plt.figure(figsize=(1, 1))\n",
    "# plt.title(labels[-441])\n",
    "# plt.imshow(imgs[-441], cmap='gray')"
   ]
  },
  {
   "cell_type": "code",
   "execution_count": 6,
   "metadata": {},
   "outputs": [
    {
     "name": "stdout",
     "output_type": "stream",
     "text": [
      "14969\n"
     ]
    },
    {
     "data": {
      "text/plain": [
       "<matplotlib.image.AxesImage at 0x1dd7af40d88>"
      ]
     },
     "execution_count": 6,
     "metadata": {},
     "output_type": "execute_result"
    },
    {
     "data": {
      "image/png": "[encoded data removed]",
      "text/plain": [
       "<Figure size 72x72 with 1 Axes>"
      ]
     },
     "metadata": {
      "needs_background": "light"
     },
     "output_type": "display_data"
    }
   ],
   "source": [
    "img_list = sorted(glob('Altered/Altered-Easy/*.BMP'))\n",
    "print(len(img_list))\n",
    "\n",
    "imgs = np.empty((len(img_list), 96, 96, 1), dtype=np.uint8)\n",
    "labels = np.empty((len(img_list), 4), dtype=np.uint16)\n",
    "\n",
    "for i, img_path in enumerate(img_list):\n",
    "    img = cv2.imread(img_path, cv2.IMREAD_GRAYSCALE)\n",
    "    img = cv2.resize(img, (96, 96))\n",
    "    img_r = img[:, :, np.newaxis]\n",
    "    imgs[i] = img_r\n",
    "    \n",
    "    # subject_id, gender, lr, finger\n",
    "    labels[i] = extract_label2(img_path)\n",
    "    \n",
    "np.savez('dataset/x_easy.npz', data=imgs)\n",
    "np.save('dataset/y_easy.npy', labels)\n",
    "\n",
    "# plt.figure(figsize=(1, 1))\n",
    "# plt.title(labels[-1])\n",
    "# plt.imshow(imgs[-1], cmap='gray')"
   ]
  },
  {
   "cell_type": "code",
   "execution_count": 7,
   "metadata": {},
   "outputs": [
    {
     "name": "stdout",
     "output_type": "stream",
     "text": [
      "14236\n"
     ]
    },
    {
     "data": {
      "text/plain": [
       "<matplotlib.image.AxesImage at 0x1dd78385708>"
      ]
     },
     "execution_count": 7,
     "metadata": {},
     "output_type": "execute_result"
    },
    {
     "data": {
      "image/png": "[encoded data removed]",
      "text/plain": [
       "<Figure size 72x72 with 1 Axes>"
      ]
     },
     "metadata": {
      "needs_background": "light"
     },
     "output_type": "display_data"
    }
   ],
   "source": [
    "img_list = sorted(glob('Altered/Altered-Medium/*.BMP'))\n",
    "print(len(img_list))\n",
    "\n",
    "imgs = np.empty((len(img_list), 96, 96, 1), dtype=np.uint8)\n",
    "labels = np.empty((len(img_list), 4), dtype=np.uint16)\n",
    "\n",
    "for i, img_path in enumerate(img_list):\n",
    "    img = cv2.imread(img_path, cv2.IMREAD_GRAYSCALE)\n",
    "    img = cv2.resize(img, (96, 96))\n",
    "    img_r = img[:, :, np.newaxis]\n",
    "    imgs[i] = img_r\n",
    "    \n",
    "    # subject_id, gender, lr, finger\n",
    "    labels[i] = extract_label2(img_path)\n",
    "    \n",
    "np.savez('dataset/x_medium.npz', data=imgs)\n",
    "np.save('dataset/y_medium.npy', labels)\n",
    "\n",
    "# plt.figure(figsize=(1, 1))\n",
    "# plt.title(labels[-1])\n",
    "# plt.imshow(imgs[-1], cmap='gray')"
   ]
  },
  {
   "cell_type": "code",
   "execution_count": 8,
   "metadata": {},
   "outputs": [
    {
     "name": "stdout",
     "output_type": "stream",
     "text": [
      "11884\n"
     ]
    },
    {
     "data": {
      "text/plain": [
       "<matplotlib.image.AxesImage at 0x1dd000f74c8>"
      ]
     },
     "execution_count": 8,
     "metadata": {},
     "output_type": "execute_result"
    },
    {
     "data": {
      "image/png": "[encoded data removed]",
      "text/plain": [
       "<Figure size 72x72 with 1 Axes>"
      ]
     },
     "metadata": {
      "needs_background": "light"
     },
     "output_type": "display_data"
    }
   ],
   "source": [
    "img_list = sorted(glob('Altered/Altered-Hard/*.BMP'))\n",
    "print(len(img_list))\n",
    "\n",
    "imgs = np.empty((len(img_list), 96, 96, 1), dtype=np.uint8)\n",
    "labels = np.empty((len(img_list), 4), dtype=np.uint16)\n",
    "\n",
    "for i, img_path in enumerate(img_list):\n",
    "    img = cv2.imread(img_path, cv2.IMREAD_GRAYSCALE)\n",
    "    img = cv2.resize(img, (96, 96))\n",
    "    img_r = img[:, :, np.newaxis]\n",
    "    imgs[i] = img_r\n",
    "    \n",
    "    # subject_id, gender, lr, finger\n",
    "    labels[i] = extract_label2(img_path)\n",
    "    \n",
    "np.savez('dataset/x_hard.npz', data=imgs)\n",
    "np.save('dataset/y_hard.npy', labels)\n",
    "\n",
    "# plt.figure(figsize=(1, 1))\n",
    "# plt.title(labels[-1])\n",
    "# plt.imshow(imgs[-1], cmap='gray')"
   ]
  },
  {
   "cell_type": "code",
   "execution_count": null,
   "metadata": {},
   "outputs": [],
   "source": []
  }
 ],
 "metadata": {
  "kernelspec": {
   "display_name": "Python 3",
   "language": "python",
   "name": "python3"
  },
  "language_info": {
   "codemirror_mode": {
    "name": "ipython",
    "version": 3
   },
   "file_extension": ".py",
   "mimetype": "text/x-python",
   "name": "python",
   "nbconvert_exporter": "python",
   "pygments_lexer": "ipython3",
   "version": "3.7.6"
  }
 },
 "nbformat": 4,
 "nbformat_minor": 2
}
